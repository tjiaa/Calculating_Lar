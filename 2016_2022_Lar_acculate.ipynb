{
 "cells": [
  {
   "cell_type": "code",
   "execution_count": 1,
   "metadata": {},
   "outputs": [],
   "source": [
    "import numpy as np\n",
    "import pandas as pd\n",
    "import os"
   ]
  },
  {
   "cell_type": "markdown",
   "metadata": {},
   "source": [
    "Lar= ∑[(MIC/R)×f] "
   ]
  },
  {
   "cell_type": "code",
   "execution_count": 2,
   "metadata": {},
   "outputs": [],
   "source": [
    "micdict = {'AMP': 32,'AUG': 32, 'AXO': '4', 'AZM': 32,'CHL': 32, 'CIP': '1','COT': 4,'FIS': 512,'FOX': 32,'GEN': 16, 'MER': 4,'NAL': 32,'STR': 32, 'TET': 16}\n",
    "###Setting resistance thresholds\n",
    "\n",
    "file_index=os.listdir('PATH TO YOUR FILES')\n"
   ]
  },
  {
   "cell_type": "code",
   "execution_count": 3,
   "metadata": {},
   "outputs": [],
   "source": [
    "def acculate_Lar (durg_name,durg_table):\n",
    "    temp_list=[]\n",
    "    temp_list_two=[]\n",
    "    durg_acculateing=durg_table[durg_name]\n",
    "    durg_acculateing=durg_acculateing.dropna()\n",
    "    durg_acculateing=list(durg_acculateing)\n",
    "    durg_acculateing_delet=set(durg_acculateing)\n",
    "    for i in durg_acculateing_delet:\n",
    "        i=float(i)\n",
    "        temp_list_two.append(i)\n",
    "    if len(durg_acculateing_delet) == 0:\n",
    "        print('Lar for',durg_name,'No data')\n",
    "    else:\n",
    "        for items in durg_acculateing_delet:\n",
    "            temp_value=durg_acculateing.count(items)\n",
    "            temp_value=float(temp_value)\n",
    "            temp_list.append(temp_value)\n",
    "        drug_name_SR_value=micdict[durg_name]\n",
    "        drug_name_SR_value=float(drug_name_SR_value)\n",
    "        all_strains=len(durg_acculateing)                \n",
    "        all_strains=float(all_strains)\n",
    "        constants_one=drug_name_SR_value*all_strains\n",
    "        constants_two_temp=np.multiply(temp_list,temp_list_two)\n",
    "        constants_two=sum(constants_two_temp)\n",
    "        Lar=constants_two/constants_one\n",
    "        temp_output=('Lar for',durg_name,'=',Lar)\n",
    "        print('Lar for ',durg_name,'=',Lar)\n",
    "######################################R index value#############################################\n",
    "\n",
    "def acculate_R_percentage(durg_name,durg_table):\n",
    "    temp_list_three=[]\n",
    "    temp_list_four=[]\n",
    "    temp_list_five=[]\n",
    "    Mari_constant=micdict[durg_name]\n",
    "    Mari_constant=float(Mari_constant)\n",
    "    durg_acculateing=durg_table[durg_name]\n",
    "    durg_acculateing=durg_acculateing.dropna()\n",
    "    durg_acculateing=list(durg_acculateing)\n",
    "    durg_acculateing_delet=set(durg_acculateing)\n",
    "    for i in durg_acculateing_delet:\n",
    "        i=float(i)\n",
    "        temp_list_three.append(i)\n",
    "    if len(temp_list_three) == 0:\n",
    "        print('S%',durg_name,'NO data')\n",
    "    else:\n",
    "        for i in temp_list_three:\n",
    "            if i >= Mari_constant:\n",
    "                temp_list_four.append(i)\n",
    "        for i in temp_list_four:\n",
    "            temp_value=durg_acculateing.count(i)\n",
    "            temp_value=float(temp_value)\n",
    "            temp_list_five.append(temp_value)\n",
    "        MARI_A=sum(temp_list_five)\n",
    "        MARI_A=float(MARI_A)\n",
    "        MARI_B=len(durg_acculateing)\n",
    "        MARI_B=float(MARI_B)\n",
    "        MARI=MARI_A/MARI_B\n",
    "        print('R%',durg_name,'=',MARI,'total strains = ',MARI_B)\n",
    "\n"
   ]
  },
  {
   "cell_type": "markdown",
   "metadata": {},
   "source": [
    "OUTPUT"
   ]
  },
  {
   "cell_type": "code",
   "execution_count": null,
   "metadata": {},
   "outputs": [],
   "source": [
    "for file in file_index:\n",
    "    durg_table=pd.read_csv('PATH TO YOUR FILES' + file,index_col=None)\n",
    "    print('this is the file named '+ file)\n",
    "    for durg_name in micdict:\n",
    "        # print(durg_name)\n",
    "        acculate_Lar(durg_name,durg_table)"
   ]
  },
  {
   "cell_type": "code",
   "execution_count": null,
   "metadata": {},
   "outputs": [],
   "source": [
    "for file in file_index:\n",
    "    durg_table=pd.read_csv('PATH TO YOUR FILES' + file,index_col=None)\n",
    "    print('this is the file named '+ file)\n",
    "    for durg_name in micdict:\n",
    "        # print(durg_name)\n",
    "        acculate_R_percentage(durg_name,durg_table)"
   ]
  }
 ],
 "metadata": {
  "kernelspec": {
   "display_name": "Python 3.9.9 64-bit (microsoft store)",
   "language": "python",
   "name": "python3"
  },
  "language_info": {
   "codemirror_mode": {
    "name": "ipython",
    "version": 3
   },
   "file_extension": ".py",
   "mimetype": "text/x-python",
   "name": "python",
   "nbconvert_exporter": "python",
   "pygments_lexer": "ipython3",
   "version": "3.9.9"
  },
  "orig_nbformat": 4,
  "vscode": {
   "interpreter": {
    "hash": "3597248ff935df6f8b60598716b3f9559b5db4c96a5692dc7db1c0c27d2b347d"
   }
  }
 },
 "nbformat": 4,
 "nbformat_minor": 2
}
